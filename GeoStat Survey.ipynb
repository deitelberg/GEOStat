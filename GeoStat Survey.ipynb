{
 "cells": [
  {
   "cell_type": "code",
   "execution_count": null,
   "metadata": {},
   "outputs": [],
   "source": [
    "import os\n",
    "import pandas as pd\n",
    "import numpy as np\n",
    "import pyreadstat as prs\n",
    "\n",
    "import config as c"
   ]
  },
  {
   "cell_type": "code",
   "execution_count": null,
   "metadata": {},
   "outputs": [],
   "source": [
    "print(c.db2018)\n",
    "for f in sorted(os.listdir(c.db2018)):\n",
    "    print(f)"
   ]
  },
  {
   "cell_type": "code",
   "execution_count": null,
   "metadata": {
    "scrolled": false
   },
   "outputs": [],
   "source": [
    "stataDirs = [c.db2018, \n",
    "             c.db2017, \n",
    "             c.db2016, \n",
    "             c.db2015, \n",
    "             c.db2014, \n",
    "             c.db2013, \n",
    "             c.db2012, \n",
    "             c.db2011, \n",
    "             c.db2010, \n",
    "             c.db2009]\n",
    "\n",
    "for stataDir in stataDirs:\n",
    "    print('\\n')\n",
    "    print(stataDir)\n",
    "    cols = 0\n",
    "    savs = 0\n",
    "    for f in os.listdir(stataDir):\n",
    "        if 'deadmen' not in f:\n",
    "            continue\n",
    "        filePath = os.path.join(stataDir, f)\n",
    "        print(f)\n",
    "        df, meta = prs.read_sav(filePath)#, apply_value_formats=True, formats_as_category=True)\n",
    "        object_methods = [meta for meta in dir(object) if callable(getattr(object, meta))]\n",
    "        print(df.head())\n",
    "        print('count: {} -- {}'.format(len(df.RegNo.unique()), np.sort(df.RegNo.unique()).astype(int)))\n",
    "        print('number_rows: {}'.format(meta.number_rows))\n",
    "        print('column_names, n = {}'.format(len(meta.column_names), meta.column_names))\n",
    "        print('column_labels, n = {}\\n'.format(len(meta.column_labels), meta.column_labels))\n",
    "        colLabels = meta.column_labels\n",
    "        for l in colLabels:\n",
    "            print(l)\n",
    "    break\n",
    "    print('total savs = {}'.format(savs))\n",
    "    print('total cols = {}'.format(cols))"
   ]
  },
  {
   "cell_type": "markdown",
   "metadata": {},
   "source": [
    "## Compare all files in a single year"
   ]
  },
  {
   "cell_type": "code",
   "execution_count": null,
   "metadata": {
    "scrolled": false
   },
   "outputs": [],
   "source": [
    "for stataDir in stataDirs:\n",
    "    n=1\n",
    "    #print('\\n{}'.format(stataDir))\n",
    "    for f in os.listdir(stataDir):\n",
    "        #if 'deadmen' not in f:\n",
    "        #    continue\n",
    "        filePath = os.path.join(stataDir, f)\n",
    "        print('#{} {:>5s} {}'.format(n, '', f))\n",
    "        \n",
    "        df, meta = prs.read_sav(filePath)#, apply_value_formats=True, formats_as_category=True)\n",
    "        object_methods = [meta for meta in dir(object) if callable(getattr(object, meta))]\n",
    "        print('{}'.format('-'*40))\n",
    "        #print(df.info())\n",
    "        #print('{}'.format('-'*40))\n",
    "        print('Rows: {}  Cols: {}'.format(df.shape[0], df.shape[1]))\n",
    "\n",
    "        col_names = meta.column_names\n",
    "        col_labels = meta.column_labels\n",
    "        col_names_labels = dict(zip(col_names, col_labels))\n",
    "        print('Names: {}  Labels: {}'.format(len(col_names), len(col_labels)))\n",
    "        i = 1\n",
    "        for name, label in col_names_labels.items():\n",
    "            unique_cnt = len(df[name].unique())\n",
    "            print('{:<3} {:<4} {:<20}  {}'.format(i, unique_cnt, name, label))\n",
    "            i+=1\n",
    "    \n",
    "        n+=1\n",
    "        #vvl_dict = meta.variable_value_labels\n",
    "        #for k1, v1 in vvl_dict.items():\n",
    "        #    print('  {}  (value type: {})'.format(k1, type(v1)))\n",
    "        #    for k2, v2 in v1.items():\n",
    "        #        print('    {}  {}'.format(k2, v2))\n",
    "            \n",
    "        print('{}\\n'.format('-'*80))\n",
    "    \n",
    "    break"
   ]
  },
  {
   "cell_type": "markdown",
   "metadata": {},
   "source": [
    "## Compare a single file across all years"
   ]
  },
  {
   "cell_type": "code",
   "execution_count": null,
   "metadata": {
    "scrolled": false
   },
   "outputs": [],
   "source": [
    "specific_file = 'sysschedule.sav'\n",
    "for stataDir in stataDirs:\n",
    "    year = os.path.basename(stataDir)[:4]\n",
    "    for f in os.listdir(stataDir):\n",
    "        if specific_file not in f:\n",
    "            continue\n",
    "            \n",
    "        filePath = os.path.join(stataDir, f)\n",
    "        print('{:<5} {}'.format(year, f))\n",
    "        \n",
    "        df, meta = prs.read_sav(filePath)#, apply_value_formats=True, formats_as_category=True)\n",
    "        print(df.head())\n",
    "        object_methods = [meta for meta in dir(object) if callable(getattr(object, meta))]\n",
    "        print('{}'.format('-'*40))\n",
    "        print('Rows: {}  Cols: {}'.format(df.shape[0], df.shape[1]))\n",
    "\n",
    "        col_names = meta.column_names\n",
    "        col_labels = meta.column_labels\n",
    "        col_names_labels = dict(zip(col_names, col_labels))\n",
    "        print('Names: {}  Labels: {}'.format(len(col_names), len(col_labels)))\n",
    "        i = 1\n",
    "        for name, label in col_names_labels.items():\n",
    "            unique_cnt = len(df[name].unique())\n",
    "            print('{:<3} {:<6} {:<20}  {}'.format(i, unique_cnt, name, label))\n",
    "            i+=1\n",
    "        \n",
    "        print('\\n---- Fields with codes, and their lookup values ---')\n",
    "        vvl_dict = meta.variable_value_labels\n",
    "        for k1, v1 in vvl_dict.items():\n",
    "            print('{:<5}'.format(k1, type(v1)))\n",
    "            for k2, v2 in v1.items():\n",
    "                print('  {:<5} {}'.format(k2, v2))\n",
    "            \n",
    "        print('{}\\n'.format('-'*80))\n",
    "        break"
   ]
  },
  {
   "cell_type": "markdown",
   "metadata": {},
   "source": [
    "## Check number of unique regions and their values"
   ]
  },
  {
   "cell_type": "code",
   "execution_count": null,
   "metadata": {
    "scrolled": false
   },
   "outputs": [],
   "source": [
    "specific_file = 'sysschedule.sav'\n",
    "for stataDir in stataDirs:\n",
    "    year = os.path.basename(stataDir)[:4]\n",
    "    for f in os.listdir(stataDir):\n",
    "        if specific_file not in f:\n",
    "            continue\n",
    "            \n",
    "        filePath = os.path.join(stataDir, f)\n",
    "        print('{:<5} {}'.format(year, f))\n",
    "        \n",
    "        df, meta = prs.read_sav(filePath)#, apply_value_formats=True, formats_as_category=True)\n",
    "        object_methods = [meta for meta in dir(object) if callable(getattr(object, meta))]\n",
    "        print('Rows: {}  Cols: {}'.format(df.shape[0], df.shape[1]))\n",
    "        \n",
    "        regions = np.sort(df.RegNo.unique()).astype(int)\n",
    "        print('Count: {} -- Region Values: {}'.format(len(regions), regions))\n",
    "        print('{}\\n'.format('-'*80))\n",
    "    \n",
    "    #break"
   ]
  }
 ],
 "metadata": {
  "kernelspec": {
   "display_name": "Python 3",
   "language": "python",
   "name": "python3"
  },
  "language_info": {
   "codemirror_mode": {
    "name": "ipython",
    "version": 3
   },
   "file_extension": ".py",
   "mimetype": "text/x-python",
   "name": "python",
   "nbconvert_exporter": "python",
   "pygments_lexer": "ipython3",
   "version": "3.7.3"
  }
 },
 "nbformat": 4,
 "nbformat_minor": 2
}
